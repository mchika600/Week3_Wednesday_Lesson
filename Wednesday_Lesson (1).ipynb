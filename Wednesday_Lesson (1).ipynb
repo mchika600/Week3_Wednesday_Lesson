{
 "cells": [
  {
   "cell_type": "markdown",
   "metadata": {},
   "source": [
    "# Algorithms, Binary Search & Linked Lists"
   ]
  },
  {
   "cell_type": "markdown",
   "metadata": {},
   "source": [
    "## Tasks Today:\n",
    "\n",
    "1) <b>Regular Expressions - <i>Covered Thursday</i></b> <br>\n",
    "2) <b>In-Place Algorithms</b> <br>\n",
    " &nbsp;&nbsp;&nbsp;&nbsp; a) Syntax <br>\n",
    " &nbsp;&nbsp;&nbsp;&nbsp; a) Out of Place Algorithm <br>\n",
    " &nbsp;&nbsp;&nbsp;&nbsp; b) In-Class Exercise #1 <br>\n",
    "3) <b>Two Pointers</b> <br>\n",
    "4) <b>Linked Lists</b> <br>\n",
    "5) <b>Merge Sort</b> <br>\n",
    " &nbsp;&nbsp;&nbsp;&nbsp; a) Video on Algorithms <br>\n",
    " &nbsp;&nbsp;&nbsp;&nbsp; b) How it Works <br>\n",
    "6) <b>Exercises</b> <br>\n",
    " &nbsp;&nbsp;&nbsp;&nbsp; a) Exercise #1 - Write Insertion Sort <br>\n",
    " &nbsp;&nbsp;&nbsp;&nbsp; b) Exercise #2 - Reverse a List in Place Using an In-Place Algorithm <br>\n",
    " &nbsp;&nbsp;&nbsp;&nbsp; c) Exercise #3 - Find Distinct Words <br>"
   ]
  },
  {
   "cell_type": "markdown",
   "metadata": {},
   "source": [
    "## In-Place Algorithms"
   ]
  },
  {
   "cell_type": "markdown",
   "metadata": {},
   "source": [
    "#### Syntax"
   ]
  },
  {
   "cell_type": "code",
   "execution_count": 1,
   "metadata": {},
   "outputs": [
    {
     "name": "stdout",
     "output_type": "stream",
     "text": [
      "[20, 4, 10, 3]\n",
      "[3, 4, 10, 20]\n"
     ]
    }
   ],
   "source": [
    "# var[i], var[i + 1] = var[i + 1], var[i]\n",
    "# sometimes called a swap\n",
    "\n",
    "def swap(alist,x,y,z):\n",
    "    alist[x],alist[y],alist[z] = alist[z],alist[y],alist[x]\n",
    "    return alist\n",
    "\n",
    "my_list = [20,4,10,3]\n",
    "print(my_list)\n",
    "swap(my_list,0,2,3)\n",
    "print(my_list)"
   ]
  },
  {
   "cell_type": "markdown",
   "metadata": {},
   "source": [
    "#### Out of Place Algorithm"
   ]
  },
  {
   "cell_type": "code",
   "execution_count": 2,
   "metadata": {},
   "outputs": [
    {
     "data": {
      "text/plain": [
       "[20, 10, 4, 3]"
      ]
     },
     "execution_count": 2,
     "metadata": {},
     "output_type": "execute_result"
    }
   ],
   "source": [
    "# not swapping, but rather reversing completely\n",
    "my_list[::-1]\n"
   ]
  },
  {
   "cell_type": "markdown",
   "metadata": {},
   "source": [
    "#### In-Class Exercise #1 <br>\n",
    "<p>Write a function that takes in four arguments (list, index1, index2, index3), and swaps those three positions in the list passed in.</p>"
   ]
  },
  {
   "cell_type": "code",
   "execution_count": 8,
   "metadata": {},
   "outputs": [
    {
     "name": "stdout",
     "output_type": "stream",
     "text": [
      "[10, 4, 3, 8, 4, 2, 6]\n",
      "[3, 10, 4, 8, 4, 2, 6]\n",
      "[3, 10, 4, 2, 8, 4, 6]\n"
     ]
    }
   ],
   "source": [
    "l_1 = [10, 4, 3, 8, 4, 2, 6]\n",
    "\n",
    "def swap1(list1,index1,index2,index3):\n",
    "    list1[index1],list1[index2],list1[index3] = list1[index3],list1[index1],list1[index2]\n",
    "\n",
    "print(l_1)\n",
    "swap1(l_1,0,1,2)  # The values entered afer \"l_1\" are index position of each value in the list  \n",
    "print(l_1)\n",
    "swap1(l_1,3,4,5)\n",
    "print(l_1)"
   ]
  },
  {
   "cell_type": "markdown",
   "metadata": {},
   "source": [
    "## Two Pointers"
   ]
  },
  {
   "cell_type": "markdown",
   "metadata": {},
   "source": [
    "#### Syntax"
   ]
  },
  {
   "cell_type": "code",
   "execution_count": 11,
   "metadata": {},
   "outputs": [
    {
     "name": "stdout",
     "output_type": "stream",
     "text": [
      "[6, 4, 8, 2, 4, 10, 3]\n"
     ]
    },
    {
     "data": {
      "text/plain": [
       "[3, 10, 4, 2, 8, 4, 6]"
      ]
     },
     "execution_count": 11,
     "metadata": {},
     "output_type": "execute_result"
    }
   ],
   "source": [
    "# alist[left], alist[right] = alist[right], alist[left]\n",
    "# use two pointers to swap, uses while loop\n",
    "\n",
    "def twoPointers(alist):\n",
    "    # Creation of pointers here\n",
    "    left = 0\n",
    "    right = len(alist) -1\n",
    "    while left <= right:\n",
    "        alist[left],alist[right] = alist[right],alist[left]\n",
    "        left += 1\n",
    "        right -= 1\n",
    "    return alist\n",
    "\n",
    "print (l_1)\n",
    "twoPointers(l_1)\n",
    "    \n",
    "    "
   ]
  },
  {
   "cell_type": "markdown",
   "metadata": {},
   "source": [
    "# Linked List (Data Structure)\n",
    "\n",
    "A linked list is created by using the node class. We create a Node object and create another class to use this node object. We pass the appropriate values thorugh the node object to point the to the next data elements.\n",
    "\n",
    "There are some advantages and disadvantages with this data structure. **Advantages** Linked Lists can save memory because they can be flexibile with memory management which saves memory. **Disadvantages** Finding or adding to the list requires traversing the entire list."
   ]
  },
  {
   "cell_type": "code",
   "execution_count": 13,
   "metadata": {},
   "outputs": [
    {
     "name": "stdout",
     "output_type": "stream",
     "text": [
      "Mon\n",
      "Tue\n",
      "Wed\n"
     ]
    }
   ],
   "source": [
    "class LinkedListNode():\n",
    "    def __init__(self,value):\n",
    "        self.value = value\n",
    "        self.next= None # This is the next pointer which initially points to nothing\n",
    "        \n",
    "    def traverseList(self):\n",
    "        node = self # Start at the Head Node\n",
    "        \n",
    "        while node != None:\n",
    "            print(node.value) # Access the node value\n",
    "            node = node.next # Move to the next link in list\n",
    "            \n",
    "# Creat Nodes for list\n",
    "node1 = LinkedListNode(\"Mon\")\n",
    "node2 = LinkedListNode(\"Tue\")\n",
    "node3 = LinkedListNode(\"Wed\")\n",
    "\n",
    "node1.next = node2 # Mon => Tue\n",
    "node2.next = node3 # Tue => Wed\n",
    "\n",
    "node1.traverseList()"
   ]
  },
  {
   "cell_type": "markdown",
   "metadata": {},
   "source": [
    "## Stacks and Queues\n",
    "\n",
    "** Stacks ** as the name suggests is a data structure that allows for data to follow the Last In First Out priciple(LIFO). Think of a stack of pancakes for example. To get the first pancake you would  start with the top and go down.\n",
    "\n",
    "** Queues ** are similar but in this case follow the First In First Out principle(FIFO). Think of this as a line in a black friday sale. The first person camped out for the big screen tv is the first to get it."
   ]
  },
  {
   "cell_type": "code",
   "execution_count": 15,
   "metadata": {},
   "outputs": [
    {
     "name": "stdout",
     "output_type": "stream",
     "text": [
      "U\n",
      "10\n"
     ]
    }
   ],
   "source": [
    "# Stacks and Queues can be created using python lists\n",
    "\n",
    "# Append() and pop() = stack\n",
    "\n",
    "stack = []\n",
    "stack.append(\"A\")\n",
    "stack.append(\"E\")\n",
    "stack.append(\"I\")\n",
    "stack.append(\"O\")\n",
    "stack.append(\"U\")\n",
    "\n",
    "# The result of the code above would be [\"A\",\"E\",\"I\",\"O\",\"U\"]\n",
    "last_itme_of_stack = stack.pop()\n",
    "print(last_itme_of_stack)\n",
    "#Append() and pop(0) = queue\n",
    "\n",
    "queue = []\n",
    "queue.append(10)\n",
    "queue.append(20)\n",
    "queue.append(30)\n",
    "\n",
    "first_item = queue.pop(0)\n",
    "print(first_item)"
   ]
  },
  {
   "cell_type": "markdown",
   "metadata": {},
   "source": [
    "## Merge Sort"
   ]
  },
  {
   "cell_type": "markdown",
   "metadata": {},
   "source": [
    "#### Video of Algorithms <br>\n",
    "<p>Watch the video about algorithms.</p>\n",
    "\n",
    "https://www.youtube.com/watch?v=Q9HjeFD62Uk\n",
    "\n",
    "https://www.youtube.com/watch?v=kPRA0W1kECg\n",
    "\n",
    "https://www.youtube.com/watch?v=ZZuD6iUe3Pc"
   ]
  },
  {
   "cell_type": "markdown",
   "metadata": {},
   "source": [
    "#### How it Works"
   ]
  },
  {
   "cell_type": "code",
   "execution_count": 23,
   "metadata": {},
   "outputs": [
    {
     "name": "stdout",
     "output_type": "stream",
     "text": [
      "[87, 26, 50, 86, 88, 89, 86, 42, 22, 40, 97]\n",
      "Splitting:  [87, 26, 50, 86, 88, 89, 86, 42, 22, 40, 97]\n",
      "Splitting:  [87, 26, 50, 86, 88]\n",
      "Splitting:  [87, 26]\n",
      "Splitting:  [87]\n",
      "Merging:  [87]\n",
      "Splitting:  [26]\n",
      "Merging:  [26]\n",
      "Merging:  [26, 87]\n",
      "Splitting:  [50, 86, 88]\n",
      "Splitting:  [50]\n",
      "Merging:  [50]\n",
      "Splitting:  [86, 88]\n",
      "Splitting:  [86]\n",
      "Merging:  [86]\n",
      "Splitting:  [88]\n",
      "Merging:  [88]\n",
      "Merging:  [86, 88]\n",
      "Merging:  [50, 86, 88]\n",
      "Merging:  [26, 50, 86, 87, 88]\n",
      "Splitting:  [89, 86, 42, 22, 40, 97]\n",
      "Splitting:  [89, 86, 42]\n",
      "Splitting:  [89]\n",
      "Merging:  [89]\n",
      "Splitting:  [86, 42]\n",
      "Splitting:  [86]\n",
      "Merging:  [86]\n",
      "Splitting:  [42]\n",
      "Merging:  [42]\n",
      "Merging:  [42, 86]\n",
      "Merging:  [42, 86, 89]\n",
      "Splitting:  [22, 40, 97]\n",
      "Splitting:  [22]\n",
      "Merging:  [22]\n",
      "Splitting:  [40, 97]\n",
      "Splitting:  [40]\n",
      "Merging:  [40]\n",
      "Splitting:  [97]\n",
      "Merging:  [97]\n",
      "Merging:  [40, 97]\n",
      "Merging:  [22, 40, 97]\n",
      "Merging:  [22, 40, 42, 86, 89, 97]\n",
      "Merging:  [22, 26, 40, 42, 50, 86, 86, 87, 88, 89, 97]\n"
     ]
    }
   ],
   "source": [
    "# Step 1: Split everything into it's own group\n",
    "# Step 2: From left to right merge two groups together\n",
    "# Step 3: While merging, place each item in the correct position within the merged group\n",
    "# Step 4: Continue steps 3-4 until one group is left\n",
    "\n",
    "from random import randint\n",
    "# used to generate a random list of 10 numbers from 0 to 100\n",
    "nums = [randint(0, 100) for i in range(11)]\n",
    "# write merge sort\n",
    "\n",
    "def mergeSort(alist):\n",
    "    print(\"Splitting: \",alist)\n",
    "    # Step 1 - Devide the list in to equal halves\n",
    "    if len(alist) >1:\n",
    "        mid = len(alist)//2\n",
    "        lefthalf = alist[:mid]\n",
    "        righthalf = alist[mid:]\n",
    "        \n",
    "        mergeSort(lefthalf)\n",
    "        mergeSort(righthalf)\n",
    "        \n",
    "        # Index pointers for the list\n",
    "        i = 0\n",
    "        j = 0\n",
    "        l = 0\n",
    "        \n",
    "        #Step 2 - Compare the lefthalf and righthalf \n",
    "        \n",
    "        while i < len(lefthalf) and j < len(righthalf):\n",
    "            if lefthalf[i] < righthalf[j]:\n",
    "                alist[l] = lefthalf[i]\n",
    "                i = i + 1\n",
    "            else:\n",
    "                alist[l] = righthalf[j]\n",
    "                j = j + 1\n",
    "                \n",
    "            l = l + 1    \n",
    "       # Step 3 -Check both halves and sort in a one-off situation\n",
    "    \n",
    "        while i < len(lefthalf):\n",
    "            alist[l] = lefthalf[i]\n",
    "            i = i + 1\n",
    "            l = l + 1\n",
    "            \n",
    "        while j < len(righthalf):\n",
    "            alist[l] = righthalf[j]\n",
    "            j = j + 1\n",
    "            l = l + 1\n",
    "            \n",
    "    # Step 4 - \n",
    "    print(\"Merging: \", alist)\n",
    "\n",
    "print(nums)\n",
    "mergeSort(nums)\n",
    "\n",
    "# Time complexity: O(nlog(n)) -- Linear Logorithmic\n",
    "# Space Complexity: O(1) -- Constant Time "
   ]
  },
  {
   "cell_type": "markdown",
   "metadata": {},
   "source": [
    "# Exercises"
   ]
  },
  {
   "cell_type": "markdown",
   "metadata": {},
   "source": [
    "### Exercise #1 <br>\n",
    "<p>Reverse the list below in-place using an in-place algorithm.<br>For extra credit: Reverse the strings at the same time.</p>"
   ]
  },
  {
   "cell_type": "code",
   "execution_count": 29,
   "metadata": {},
   "outputs": [
    {
     "name": "stdout",
     "output_type": "stream",
     "text": [
      "['.', 'sentence', 'a', 'is', 'this']\n"
     ]
    }
   ],
   "source": [
    "words = ['this' , 'is', 'a', 'sentence', '.']\n",
    "\n",
    "def reverse(aList,a,b,c,d,e):\n",
    "    aList[a],aList[b],aList[c],aList[d],aList[e] = aList[e],aList[d],aList[c],aList[b],aList[a]\n",
    "reverse(words,0,1,2,3,4)   \n",
    "print(words)\n"
   ]
  },
  {
   "cell_type": "markdown",
   "metadata": {},
   "source": [
    "### Exercise #2 <br>\n",
    "<p>Create a function that counts how many distinct words are in the string below, then outputs a dictionary with the words as the key and the value as the amount of times that word appears in the string.<br>Should output:<br>{'a': 5,<br>\n",
    " 'abstract': 1,<br>\n",
    " 'an': 3,<br>\n",
    " 'array': 2, ... etc...</p>"
   ]
  },
  {
   "cell_type": "code",
   "execution_count": 32,
   "metadata": {},
   "outputs": [
    {
     "data": {
      "text/plain": [
       "{'In': 1,\n",
       " 'computing,': 1,\n",
       " 'a': 4,\n",
       " 'hash': 4,\n",
       " 'table': 2,\n",
       " 'map': 2,\n",
       " 'is': 1,\n",
       " 'data': 2,\n",
       " 'structure': 2,\n",
       " 'which': 2,\n",
       " 'implements': 1,\n",
       " 'an': 3,\n",
       " 'associative': 1,\n",
       " 'array': 2,\n",
       " 'abstract': 1,\n",
       " 'type,': 1,\n",
       " 'that': 1,\n",
       " 'can': 2,\n",
       " 'keys': 1,\n",
       " 'to': 2,\n",
       " 'values.': 1,\n",
       " 'A': 1,\n",
       " 'uses': 1,\n",
       " 'function': 1,\n",
       " 'compute': 1,\n",
       " 'index': 1,\n",
       " 'into': 1,\n",
       " 'of': 1,\n",
       " 'buckets': 1,\n",
       " 'or': 1,\n",
       " 'slots': 1,\n",
       " 'from': 1,\n",
       " 'the': 1,\n",
       " 'desired': 1,\n",
       " 'value': 1,\n",
       " 'be': 1,\n",
       " 'found': 1}"
      ]
     },
     "execution_count": 32,
     "metadata": {},
     "output_type": "execute_result"
    }
   ],
   "source": [
    "a_text = 'In computing, a hash table hash map is a data structure which implements an associative array abstract data type, a structure that can map keys to values. A hash table uses a hash function to compute an index into an array of buckets or slots from which the desired value can be found'\n",
    "\n",
    "def wordCount(takeDict):\n",
    "    dir_Word_Count = {}\n",
    "    for i in a_text.split():\n",
    "        if i in dir_Word_Count:\n",
    "            dir_Word_Count[i] +=1\n",
    "        else:\n",
    "            dir_Word_Count[i] =1\n",
    "    return dir_Word_Count\n",
    "\n",
    "wordCount(a_text)    "
   ]
  },
  {
   "cell_type": "markdown",
   "metadata": {},
   "source": [
    "### Exercise #3 : Larger Challenge <br>\n",
    "<p>Write a function that performs insertion sort on the list below.</p>"
   ]
  },
  {
   "cell_type": "code",
   "execution_count": 9,
   "metadata": {},
   "outputs": [
    {
     "name": "stdout",
     "output_type": "stream",
     "text": [
      "[44, 20, 0, 54, 69, 87, 78, 18, 2, 89]\n",
      "[20, 44, 0, 54, 69, 87, 78, 18, 2, 89]\n",
      "[20, 0, 44, 54, 69, 87, 78, 18, 2, 89]\n",
      "[0, 20, 44, 54, 69, 87, 78, 18, 2, 89]\n",
      "[0, 20, 44, 54, 69, 78, 87, 18, 2, 89]\n",
      "[0, 20, 44, 54, 69, 78, 87, 18, 2, 89]\n",
      "[0, 20, 44, 54, 69, 78, 87, 18, 2, 89]\n",
      "[0, 20, 44, 54, 69, 78, 87, 18, 2, 89]\n",
      "[0, 20, 44, 54, 69, 78, 87, 18, 2, 89]\n",
      "[0, 20, 44, 54, 69, 78, 87, 18, 2, 89]\n",
      "[0, 20, 44, 54, 69, 78, 18, 87, 2, 89]\n",
      "[0, 20, 44, 54, 69, 18, 78, 87, 2, 89]\n",
      "[0, 20, 44, 54, 18, 69, 78, 87, 2, 89]\n",
      "[0, 20, 44, 18, 54, 69, 78, 87, 2, 89]\n",
      "[0, 20, 18, 44, 54, 69, 78, 87, 2, 89]\n",
      "[0, 18, 20, 44, 54, 69, 78, 87, 2, 89]\n",
      "[0, 18, 20, 44, 54, 69, 78, 87, 2, 89]\n",
      "[0, 18, 20, 44, 54, 69, 78, 2, 87, 89]\n",
      "[0, 18, 20, 44, 54, 69, 2, 78, 87, 89]\n",
      "[0, 18, 20, 44, 54, 2, 69, 78, 87, 89]\n",
      "[0, 18, 20, 44, 2, 54, 69, 78, 87, 89]\n",
      "[0, 18, 20, 2, 44, 54, 69, 78, 87, 89]\n",
      "[0, 18, 2, 20, 44, 54, 69, 78, 87, 89]\n",
      "[0, 2, 18, 20, 44, 54, 69, 78, 87, 89]\n"
     ]
    },
    {
     "data": {
      "text/plain": [
       "[0, 2, 18, 20, 44, 54, 69, 78, 87, 89]"
      ]
     },
     "execution_count": 9,
     "metadata": {},
     "output_type": "execute_result"
    }
   ],
   "source": [
    "from random import randint\n",
    "# used to generate a random list of 10 numbers from 0 to 100\n",
    "nums = [randint(0, 100) for i in range(10)]\n",
    "# write insertion sort\n",
    "def inseSort(mylist):\n",
    "    for i in range(len(mylist)):\n",
    "        if mylist[i] < mylist[i-1]:\n",
    "            for j in range(i,0,-1):\n",
    "                print(mylist)\n",
    "                if mylist[j]<mylist[j-1]:\n",
    "                    mylist[j],mylist[j-1] = mylist[j-1],mylist[j]\n",
    "    return mylist\n",
    "                \n",
    "#print(\"Splitting: \",mylist)\n",
    "# Step 1 - Devide the list in to equal halves\n",
    "# Index pointers for the list\n",
    "# step 1: loop forward to end\n",
    "# step 2: check current index is lower than previous\n",
    "# step3: if so, loop backwards\n",
    "# step4: check if current index is less than previous again\n",
    "# step 5: swap \n",
    "# step 6: if not, break\n",
    "inseSort(nums)   "
   ]
  }
 ],
 "metadata": {
  "kernelspec": {
   "display_name": "Python 3",
   "language": "python",
   "name": "python3"
  },
  "language_info": {
   "codemirror_mode": {
    "name": "ipython",
    "version": 3
   },
   "file_extension": ".py",
   "mimetype": "text/x-python",
   "name": "python",
   "nbconvert_exporter": "python",
   "pygments_lexer": "ipython3",
   "version": "3.7.0"
  }
 },
 "nbformat": 4,
 "nbformat_minor": 2
}
